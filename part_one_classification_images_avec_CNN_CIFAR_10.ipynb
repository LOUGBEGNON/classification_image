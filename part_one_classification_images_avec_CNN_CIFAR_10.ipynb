{
 "cells": [
  {
   "cell_type": "markdown",
   "metadata": {},
   "source": [
    "Partie 1: Classification d'images avec CNN sur CIFAR-10\n",
    "1. Chargement et prétraitement des données"
   ]
  },
  {
   "cell_type": "code",
   "execution_count": 1,
   "metadata": {},
   "outputs": [
    {
     "name": "stdout",
     "output_type": "stream",
     "text": [
      "Requirement already satisfied: torch in .\\env\\lib\\site-packages (2.6.0)\n",
      "Requirement already satisfied: torchvision in .\\env\\lib\\site-packages (0.21.0)\n",
      "Requirement already satisfied: matplotlib in .\\env\\lib\\site-packages (3.10.1)\n",
      "Requirement already satisfied: numpy in .\\env\\lib\\site-packages (2.2.4)\n",
      "Requirement already satisfied: scikit-learn in .\\env\\lib\\site-packages (1.6.1)\n",
      "Requirement already satisfied: filelock in .\\env\\lib\\site-packages (from torch) (3.18.0)\n",
      "Requirement already satisfied: typing-extensions>=4.10.0 in .\\env\\lib\\site-packages (from torch) (4.13.1)\n",
      "Requirement already satisfied: networkx in .\\env\\lib\\site-packages (from torch) (3.4.2)\n",
      "Requirement already satisfied: jinja2 in .\\env\\lib\\site-packages (from torch) (3.1.6)\n",
      "Requirement already satisfied: fsspec in .\\env\\lib\\site-packages (from torch) (2025.3.2)\n",
      "Requirement already satisfied: sympy==1.13.1 in .\\env\\lib\\site-packages (from torch) (1.13.1)\n",
      "Requirement already satisfied: mpmath<1.4,>=1.1.0 in .\\env\\lib\\site-packages (from sympy==1.13.1->torch) (1.3.0)\n",
      "Requirement already satisfied: pillow!=8.3.*,>=5.3.0 in .\\env\\lib\\site-packages (from torchvision) (11.1.0)\n",
      "Requirement already satisfied: contourpy>=1.0.1 in .\\env\\lib\\site-packages (from matplotlib) (1.3.1)\n",
      "Requirement already satisfied: cycler>=0.10 in .\\env\\lib\\site-packages (from matplotlib) (0.12.1)\n",
      "Requirement already satisfied: fonttools>=4.22.0 in .\\env\\lib\\site-packages (from matplotlib) (4.57.0)\n",
      "Requirement already satisfied: kiwisolver>=1.3.1 in .\\env\\lib\\site-packages (from matplotlib) (1.4.8)\n",
      "Requirement already satisfied: packaging>=20.0 in .\\env\\lib\\site-packages (from matplotlib) (24.2)\n",
      "Requirement already satisfied: pyparsing>=2.3.1 in .\\env\\lib\\site-packages (from matplotlib) (3.2.3)\n",
      "Requirement already satisfied: python-dateutil>=2.7 in .\\env\\lib\\site-packages (from matplotlib) (2.9.0.post0)\n",
      "Requirement already satisfied: scipy>=1.6.0 in .\\env\\lib\\site-packages (from scikit-learn) (1.15.2)\n",
      "Requirement already satisfied: joblib>=1.2.0 in .\\env\\lib\\site-packages (from scikit-learn) (1.4.2)\n",
      "Requirement already satisfied: threadpoolctl>=3.1.0 in .\\env\\lib\\site-packages (from scikit-learn) (3.6.0)\n",
      "Requirement already satisfied: six>=1.5 in .\\env\\lib\\site-packages (from python-dateutil>=2.7->matplotlib) (1.17.0)\n",
      "Requirement already satisfied: MarkupSafe>=2.0 in .\\env\\lib\\site-packages (from jinja2->torch) (3.0.2)\n"
     ]
    },
    {
     "name": "stderr",
     "output_type": "stream",
     "text": [
      "\n",
      "[notice] A new release of pip is available: 24.0 -> 25.0.1\n",
      "[notice] To update, run: python.exe -m pip install --upgrade pip\n"
     ]
    }
   ],
   "source": [
    "!pip install torch torchvision matplotlib numpy scikit-learn"
   ]
  },
  {
   "cell_type": "code",
   "execution_count": 2,
   "metadata": {},
   "outputs": [],
   "source": [
    "import torch\n",
    "import torchvision\n",
    "import torchvision.transforms as transforms\n",
    "import matplotlib.pyplot as plt\n",
    "import numpy as np\n",
    "import torch.nn as nn\n",
    "import torch.nn.functional as F\n",
    "import torch.optim as optim\n",
    "from torch.utils.data import DataLoader\n",
    "from sklearn.metrics import accuracy_score"
   ]
  },
  {
   "cell_type": "code",
   "execution_count": 3,
   "metadata": {},
   "outputs": [
    {
     "data": {
      "image/png": "[encoded data removed]",
      "text/plain": [
       "<Figure size 640x480 with 1 Axes>"
      ]
     },
     "metadata": {},
     "output_type": "display_data"
    },
    {
     "name": "stdout",
     "output_type": "stream",
     "text": [
      "frog  ship  dog   truck\n"
     ]
    }
   ],
   "source": [
    "# Définition des transformations\n",
    "transform_basic = transforms.Compose([\n",
    "    transforms.ToTensor(),\n",
    "    transforms.Normalize((0.5, 0.5, 0.5), (0.5, 0.5, 0.5))\n",
    "])\n",
    "\n",
    "# Transformation avec augmentation de données\n",
    "transform_augmented = transforms.Compose([\n",
    "    transforms.RandomHorizontalFlip(),\n",
    "    transforms.RandomRotation(10),\n",
    "    transforms.ToTensor(),\n",
    "    transforms.Normalize((0.5, 0.5, 0.5), (0.5, 0.5, 0.5))\n",
    "])\n",
    "\n",
    "# Chargement des ensembles d'entraînement et de test\n",
    "trainset_basic = torchvision.datasets.CIFAR10(root='./data', train=True, download=True, transform=transform_basic)\n",
    "testset = torchvision.datasets.CIFAR10(root='./data', train=False, download=True, transform=transform_basic)\n",
    "\n",
    "trainset_augmented = torchvision.datasets.CIFAR10(root='./data', train=True, download=True, transform=transform_augmented)\n",
    "\n",
    "# Création des DataLoaders\n",
    "batch_size = 32\n",
    "\n",
    "trainloader_basic = DataLoader(trainset_basic, batch_size=batch_size, shuffle=True, num_workers=2)\n",
    "trainloader_augmented = DataLoader(trainset_augmented, batch_size=batch_size, shuffle=True, num_workers=2)\n",
    "testloader = DataLoader(testset, batch_size=batch_size, shuffle=False, num_workers=2)\n",
    "\n",
    "# Classes du CIFAR-10\n",
    "classes = ('plane', 'car', 'bird', 'cat', 'deer', 'dog', 'frog', 'horse', 'ship', 'truck')\n",
    "\n",
    "# Visualisation de quelques images\n",
    "def imshow(img):\n",
    "    img = img / 2 + 0.5  # dénormalisation\n",
    "    npimg = img.numpy()\n",
    "    plt.imshow(np.transpose(npimg, (1, 2, 0)))\n",
    "    plt.show()\n",
    "\n",
    "# Affichage d'images aléatoires\n",
    "dataiter = iter(trainloader_basic)\n",
    "images, labels = next(dataiter)\n",
    "imshow(torchvision.utils.make_grid(images[:4]))\n",
    "print(' '.join(f'{classes[labels[j]]:5s}' for j in range(4)))"
   ]
  },
  {
   "cell_type": "markdown",
   "metadata": {},
   "source": [
    "2. Définition de l'architecture CNN"
   ]
  },
  {
   "cell_type": "code",
   "execution_count": 4,
   "metadata": {},
   "outputs": [
    {
     "name": "stdout",
     "output_type": "stream",
     "text": [
      "CNN_CIFAR(\n",
      "  (conv1): Conv2d(3, 32, kernel_size=(3, 3), stride=(1, 1), padding=(1, 1))\n",
      "  (conv2): Conv2d(32, 64, kernel_size=(3, 3), stride=(1, 1), padding=(1, 1))\n",
      "  (conv3): Conv2d(64, 128, kernel_size=(3, 3), stride=(1, 1), padding=(1, 1))\n",
      "  (pool): MaxPool2d(kernel_size=2, stride=2, padding=0, dilation=1, ceil_mode=False)\n",
      "  (fc1): Linear(in_features=2048, out_features=512, bias=True)\n",
      "  (fc2): Linear(in_features=512, out_features=10, bias=True)\n",
      "  (dropout): Dropout(p=0.25, inplace=False)\n",
      ")\n"
     ]
    }
   ],
   "source": [
    "class CNN_CIFAR(nn.Module):\n",
    "    def __init__(self):\n",
    "        super(CNN_CIFAR, self).__init__()\n",
    "        # Couche convolutionnelle 1\n",
    "        self.conv1 = nn.Conv2d(3, 32, 3, padding=1)\n",
    "        # Couche convolutionnelle 2\n",
    "        self.conv2 = nn.Conv2d(32, 64, 3, padding=1)\n",
    "        # Couche convolutionnelle 3\n",
    "        self.conv3 = nn.Conv2d(64, 128, 3, padding=1)\n",
    "        # Couche de pooling\n",
    "        self.pool = nn.MaxPool2d(2, 2)\n",
    "        # Couche fully connected 1\n",
    "        self.fc1 = nn.Linear(128 * 4 * 4, 512)\n",
    "        # Couche fully connected 2 (sortie)\n",
    "        self.fc2 = nn.Linear(512, 10)\n",
    "        # Dropout pour la régularisation\n",
    "        self.dropout = nn.Dropout(0.25)\n",
    "        \n",
    "    def forward(self, x):\n",
    "        # Conv -> ReLU -> Pool\n",
    "        x = self.pool(F.relu(self.conv1(x)))\n",
    "        # Conv -> ReLU -> Pool\n",
    "        x = self.pool(F.relu(self.conv2(x)))\n",
    "        # Conv -> ReLU -> Pool\n",
    "        x = self.pool(F.relu(self.conv3(x)))\n",
    "        # Flatten\n",
    "        x = x.view(-1, 128 * 4 * 4)\n",
    "        # FC -> ReLU -> Dropout\n",
    "        x = self.dropout(F.relu(self.fc1(x)))\n",
    "        # FC (sortie)\n",
    "        x = self.fc2(x)\n",
    "        return x\n",
    "\n",
    "# Initialisation du modèle\n",
    "model = CNN_CIFAR()\n",
    "print(model)"
   ]
  },
  {
   "cell_type": "markdown",
   "metadata": {},
   "source": [
    "3. Entraînement du modèle"
   ]
  },
  {
   "cell_type": "code",
   "execution_count": 5,
   "metadata": {},
   "outputs": [
    {
     "name": "stdout",
     "output_type": "stream",
     "text": [
      "Training without data augmentation...\n",
      "Epoch 1, Batch 500, Loss: 1.614\n",
      "Epoch 1, Batch 1000, Loss: 1.254\n",
      "Epoch 1, Batch 1500, Loss: 1.107\n",
      "Epoch 2, Batch 500, Loss: 0.947\n",
      "Epoch 2, Batch 1000, Loss: 0.909\n",
      "Epoch 2, Batch 1500, Loss: 0.859\n",
      "Epoch 3, Batch 500, Loss: 0.744\n",
      "Epoch 3, Batch 1000, Loss: 0.728\n",
      "Epoch 3, Batch 1500, Loss: 0.718\n",
      "Epoch 4, Batch 500, Loss: 0.605\n",
      "Epoch 4, Batch 1000, Loss: 0.618\n",
      "Epoch 4, Batch 1500, Loss: 0.611\n",
      "Epoch 5, Batch 500, Loss: 0.497\n",
      "Epoch 5, Batch 1000, Loss: 0.506\n",
      "Epoch 5, Batch 1500, Loss: 0.530\n",
      "Epoch 6, Batch 500, Loss: 0.396\n",
      "Epoch 6, Batch 1000, Loss: 0.448\n",
      "Epoch 6, Batch 1500, Loss: 0.454\n",
      "Epoch 7, Batch 500, Loss: 0.332\n",
      "Epoch 7, Batch 1000, Loss: 0.363\n",
      "Epoch 7, Batch 1500, Loss: 0.384\n",
      "Epoch 8, Batch 500, Loss: 0.269\n",
      "Epoch 8, Batch 1000, Loss: 0.300\n",
      "Epoch 8, Batch 1500, Loss: 0.330\n",
      "Epoch 9, Batch 500, Loss: 0.222\n",
      "Epoch 9, Batch 1000, Loss: 0.260\n",
      "Epoch 9, Batch 1500, Loss: 0.293\n",
      "Epoch 10, Batch 500, Loss: 0.195\n",
      "Epoch 10, Batch 1000, Loss: 0.233\n",
      "Epoch 10, Batch 1500, Loss: 0.244\n",
      "Finished Training\n",
      "\n",
      "Training with data augmentation...\n",
      "Epoch 1, Batch 500, Loss: 1.659\n",
      "Epoch 1, Batch 1000, Loss: 1.308\n",
      "Epoch 1, Batch 1500, Loss: 1.183\n",
      "Epoch 2, Batch 500, Loss: 1.032\n",
      "Epoch 2, Batch 1000, Loss: 0.992\n",
      "Epoch 2, Batch 1500, Loss: 0.945\n",
      "Epoch 3, Batch 500, Loss: 0.877\n",
      "Epoch 3, Batch 1000, Loss: 0.859\n",
      "Epoch 3, Batch 1500, Loss: 0.825\n",
      "Epoch 4, Batch 500, Loss: 0.786\n",
      "Epoch 4, Batch 1000, Loss: 0.767\n",
      "Epoch 4, Batch 1500, Loss: 0.771\n",
      "Epoch 5, Batch 500, Loss: 0.718\n",
      "Epoch 5, Batch 1000, Loss: 0.707\n",
      "Epoch 5, Batch 1500, Loss: 0.705\n",
      "Epoch 6, Batch 500, Loss: 0.659\n",
      "Epoch 6, Batch 1000, Loss: 0.668\n",
      "Epoch 6, Batch 1500, Loss: 0.673\n",
      "Epoch 7, Batch 500, Loss: 0.614\n",
      "Epoch 7, Batch 1000, Loss: 0.628\n",
      "Epoch 7, Batch 1500, Loss: 0.649\n",
      "Epoch 8, Batch 500, Loss: 0.584\n",
      "Epoch 8, Batch 1000, Loss: 0.597\n",
      "Epoch 8, Batch 1500, Loss: 0.614\n",
      "Epoch 9, Batch 500, Loss: 0.567\n",
      "Epoch 9, Batch 1000, Loss: 0.585\n",
      "Epoch 9, Batch 1500, Loss: 0.590\n",
      "Epoch 10, Batch 500, Loss: 0.544\n",
      "Epoch 10, Batch 1000, Loss: 0.556\n",
      "Epoch 10, Batch 1500, Loss: 0.566\n",
      "Finished Training\n"
     ]
    }
   ],
   "source": [
    "# Fonction de perte et optimiseur\n",
    "criterion = nn.CrossEntropyLoss()\n",
    "optimizer = optim.Adam(model.parameters(), lr=0.001)\n",
    "\n",
    "# Fonction d'entraînement\n",
    "def train_model(trainloader, model, criterion, optimizer, num_epochs=10):\n",
    "    model.train()\n",
    "    for epoch in range(num_epochs):\n",
    "        running_loss = 0.0\n",
    "        for i, data in enumerate(trainloader, 0):\n",
    "            inputs, labels = data\n",
    "            optimizer.zero_grad()\n",
    "            outputs = model(inputs)\n",
    "            loss = criterion(outputs, labels)\n",
    "            loss.backward()\n",
    "            optimizer.step()\n",
    "            running_loss += loss.item()\n",
    "            \n",
    "            if i % 500 == 499:\n",
    "                print(f'Epoch {epoch + 1}, Batch {i + 1}, Loss: {running_loss / 500:.3f}')\n",
    "                running_loss = 0.0\n",
    "    print('Finished Training')\n",
    "\n",
    "# Entraînement sans augmentation de données\n",
    "print(\"Training without data augmentation...\")\n",
    "train_model(trainloader_basic, model, criterion, optimizer, num_epochs=10)\n",
    "\n",
    "# Sauvegarde du modèle\n",
    "torch.save(model.state_dict(), 'cifar_cnn_basic.pth')\n",
    "\n",
    "# Réinitialisation du modèle pour l'entraînement avec augmentation\n",
    "model_augmented = CNN_CIFAR()\n",
    "optimizer_augmented = optim.Adam(model_augmented.parameters(), lr=0.001)\n",
    "\n",
    "# Entraînement avec augmentation de données\n",
    "print(\"\\nTraining with data augmentation...\")\n",
    "train_model(trainloader_augmented, model_augmented, criterion, optimizer_augmented, num_epochs=10)\n",
    "\n",
    "# Sauvegarde du modèle\n",
    "torch.save(model_augmented.state_dict(), 'cifar_cnn_augmented.pth')"
   ]
  },
  {
   "cell_type": "markdown",
   "metadata": {},
   "source": [
    "4. Évaluation des modèles"
   ]
  },
  {
   "cell_type": "code",
   "execution_count": 6,
   "metadata": {},
   "outputs": [
    {
     "name": "stdout",
     "output_type": "stream",
     "text": [
      "Evaluation of model without data augmentation:\n",
      "Accuracy on test set: 76.01%\n",
      "\n",
      "Evaluation of model with data augmentation:\n",
      "Accuracy on test set: 78.47%\n",
      "\n",
      "Accuracy improvement with data augmentation: 2.46%\n"
     ]
    }
   ],
   "source": [
    "def evaluate_model(testloader, model):\n",
    "    model.eval()\n",
    "    correct = 0\n",
    "    total = 0\n",
    "    all_preds = []\n",
    "    all_labels = []\n",
    "    with torch.no_grad():\n",
    "        for data in testloader:\n",
    "            images, labels = data\n",
    "            outputs = model(images)\n",
    "            _, predicted = torch.max(outputs.data, 1)\n",
    "            total += labels.size(0)\n",
    "            correct += (predicted == labels).sum().item()\n",
    "            all_preds.extend(predicted.numpy())\n",
    "            all_labels.extend(labels.numpy())\n",
    "    \n",
    "    accuracy = 100 * correct / total\n",
    "    print(f'Accuracy on test set: {accuracy:.2f}%')\n",
    "    return accuracy\n",
    "\n",
    "# Chargement des modèles (au cas où on exécute cette cellule séparément)\n",
    "model.load_state_dict(torch.load('cifar_cnn_basic.pth'))\n",
    "model_augmented.load_state_dict(torch.load('cifar_cnn_augmented.pth'))\n",
    "\n",
    "# Évaluation\n",
    "print(\"Evaluation of model without data augmentation:\")\n",
    "accuracy_basic = evaluate_model(testloader, model)\n",
    "\n",
    "print(\"\\nEvaluation of model with data augmentation:\")\n",
    "accuracy_augmented = evaluate_model(testloader, model_augmented)\n",
    "\n",
    "# Comparaison des performances\n",
    "print(f\"\\nAccuracy improvement with data augmentation: {accuracy_augmented - accuracy_basic:.2f}%\")"
   ]
  }
 ],
 "metadata": {
  "kernelspec": {
   "display_name": "env",
   "language": "python",
   "name": "python3"
  },
  "language_info": {
   "codemirror_mode": {
    "name": "ipython",
    "version": 3
   },
   "file_extension": ".py",
   "mimetype": "text/x-python",
   "name": "python",
   "nbconvert_exporter": "python",
   "pygments_lexer": "ipython3",
   "version": "3.11.9"
  }
 },
 "nbformat": 4,
 "nbformat_minor": 2
}
